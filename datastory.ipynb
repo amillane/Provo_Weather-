{
 "cells": [
  {
   "cell_type": "code",
   "execution_count": 4,
   "metadata": {},
   "outputs": [],
   "source": [
    "import pandas as pd\n",
    "import numpy as np\n",
    "import matplotlib.pyplot as plt\n",
    "import seaborn as sns\n",
    "import plotly.express as px\n",
    "from datetime import datetime\n",
    "from dash import Dash, html, dcc\n",
    "import plotly.graph_objects as go"
   ]
  },
  {
   "cell_type": "code",
   "execution_count": 5,
   "metadata": {},
   "outputs": [],
   "source": [
    "df = pd.read_csv('weather.csv')#, index_col = 'datetime', parse_dates = True)\n",
    "df.drop(df.columns[[0]],axis = 1, inplace = True)"
   ]
  },
  {
   "cell_type": "code",
   "execution_count": 7,
   "metadata": {},
   "outputs": [],
   "source": [
    "fig = go.Figure()\n",
    "# Create and style traces\n",
    "fig.add_trace(go.Scatter(x=df['datetime'], y=df['temp'], name='Average Temp',\n",
    "                         line=dict(color='green', width=3)))\n",
    "fig.add_trace(go.Scatter(x=df['datetime'], y=df['tempmin'], name = 'Min Temp',\n",
    "                         line=dict(color='royalblue', width=2, dash = 'dot')))\n",
    "fig.add_trace(go.Scatter(x=df['datetime'], y=df['tempmax'], name='Max Temp',\n",
    "                         line=dict(color='firebrick', width=2,\n",
    "                              dash='dot'))) # dash options include 'dash', 'dot', and 'dashdot'))\n",
    "\n",
    "\n",
    "# Edit the layout\n",
    "fig.update_layout(title='Average, High, and Low Temperatures in Provo',\n",
    "                   xaxis_title='Month',\n",
    "                   yaxis_title='Temperature (degrees F)')\n",
    "\n",
    "fig.write_html('datastory.html')"
   ]
  }
 ],
 "metadata": {
  "kernelspec": {
   "display_name": "Python 3.10.2 64-bit",
   "language": "python",
   "name": "python3"
  },
  "language_info": {
   "codemirror_mode": {
    "name": "ipython",
    "version": 3
   },
   "file_extension": ".py",
   "mimetype": "text/x-python",
   "name": "python",
   "nbconvert_exporter": "python",
   "pygments_lexer": "ipython3",
   "version": "3.10.2"
  },
  "orig_nbformat": 4,
  "vscode": {
   "interpreter": {
    "hash": "aee8b7b246df8f9039afb4144a1f6fd8d2ca17a180786b69acc140d282b71a49"
   }
  }
 },
 "nbformat": 4,
 "nbformat_minor": 2
}
